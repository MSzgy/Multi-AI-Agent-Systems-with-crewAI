{
 "cells": [
  {
   "cell_type": "markdown",
   "metadata": {},
   "source": [
    "You can download the `requirements.txt` for this course from the workspace of this lab. `File --> Open...`"
   ]
  },
  {
   "cell_type": "markdown",
   "metadata": {},
   "source": [
    "# L2: Create Agents to Research and Write an Article\n",
    "\n",
    "In this lesson, you will be introduced to the foundational concepts of multi-agent systems and get an overview of the crewAI framework."
   ]
  },
  {
   "cell_type": "markdown",
   "metadata": {},
   "source": [
    "The libraries are already installed in the classroom. If you're running this notebook on your own machine, you can install the following:\n",
    "```Python\n",
    "!pip install crewai==0.28.8 crewai_tools==0.1.6 langchain_community==0.0.29\n",
    "```"
   ]
  },
  {
   "cell_type": "code",
   "execution_count": 1,
   "metadata": {
    "height": 64
   },
   "outputs": [],
   "source": [
    "# Warning control\n",
    "import warnings\n",
    "warnings.filterwarnings('ignore')"
   ]
  },
  {
   "cell_type": "markdown",
   "metadata": {},
   "source": [
    "- Import from the crewAI libray."
   ]
  },
  {
   "cell_type": "code",
   "execution_count": 2,
   "metadata": {
    "height": 30
   },
   "outputs": [],
   "source": [
    "from crewai import Agent, Task, Crew"
   ]
  },
  {
   "cell_type": "markdown",
   "metadata": {},
   "source": [
    "- As a LLM for your agents, you'll be using OpenAI's `gpt-3.5-turbo`.\n",
    "\n",
    "**Optional Note:** crewAI also allow other popular models to be used as a LLM for your Agents. You can see some of the examples at the [bottom of the notebook](#1)."
   ]
  },
  {
   "cell_type": "code",
   "execution_count": 3,
   "metadata": {
    "height": 98
   },
   "outputs": [],
   "source": [
    "import os\n",
    "from utils import get_openai_api_key\n",
    "\n",
    "openai_api_key = get_openai_api_key()\n",
    "os.environ[\"OPENAI_MODEL_NAME\"] = 'gpt-3.5-turbo'"
   ]
  },
  {
   "cell_type": "markdown",
   "metadata": {},
   "source": [
    "## Creating Agents\n",
    "\n",
    "- Define your Agents, and provide them a `role`, `goal` and `backstory`.\n",
    "- It has been seen that LLMs perform better when they are role playing."
   ]
  },
  {
   "cell_type": "markdown",
   "metadata": {},
   "source": [
    "### Agent: Planner\n",
    "\n",
    "**Note**: The benefit of using _multiple strings_ :\n",
    "```Python\n",
    "varname = \"line 1 of text\"\n",
    "          \"line 2 of text\"\n",
    "```\n",
    "\n",
    "versus the _triple quote docstring_:\n",
    "```Python\n",
    "varname = \"\"\"line 1 of text\n",
    "             line 2 of text\n",
    "          \"\"\"\n",
    "```\n",
    "is that it can avoid adding those whitespaces and newline characters, making it better formatted to be passed to the LLM."
   ]
  },
  {
   "cell_type": "code",
   "execution_count": 4,
   "metadata": {
    "height": 249
   },
   "outputs": [],
   "source": [
    "planner = Agent(\n",
    "    role=\"Content Planner\",\n",
    "    goal=\"Plan engaging and factually accurate content on {topic}\",\n",
    "    backstory=\"You're working on planning a blog article \"\n",
    "              \"about the topic: {topic}.\"\n",
    "              \"You collect information that helps the \"\n",
    "              \"audience learn something \"\n",
    "              \"and make informed decisions. \"\n",
    "              \"Your work is the basis for \"\n",
    "              \"the Content Writer to write an article on this topic.\",\n",
    "    allow_delegation=False,\n",
    "\tverbose=True\n",
    ")"
   ]
  },
  {
   "cell_type": "markdown",
   "metadata": {},
   "source": [
    "### Agent: Writer"
   ]
  },
  {
   "cell_type": "code",
   "execution_count": 5,
   "metadata": {
    "height": 385
   },
   "outputs": [],
   "source": [
    "writer = Agent(\n",
    "    role=\"Content Writer\",\n",
    "    goal=\"Write insightful and factually accurate \"\n",
    "         \"opinion piece about the topic: {topic}\",\n",
    "    backstory=\"You're working on a writing \"\n",
    "              \"a new opinion piece about the topic: {topic}. \"\n",
    "              \"You base your writing on the work of \"\n",
    "              \"the Content Planner, who provides an outline \"\n",
    "              \"and relevant context about the topic. \"\n",
    "              \"You follow the main objectives and \"\n",
    "              \"direction of the outline, \"\n",
    "              \"as provide by the Content Planner. \"\n",
    "              \"You also provide objective and impartial insights \"\n",
    "              \"and back them up with information \"\n",
    "              \"provide by the Content Planner. \"\n",
    "              \"You acknowledge in your opinion piece \"\n",
    "              \"when your statements are opinions \"\n",
    "              \"as opposed to objective statements.\",\n",
    "    allow_delegation=False,\n",
    "    verbose=True\n",
    ")"
   ]
  },
  {
   "cell_type": "markdown",
   "metadata": {},
   "source": [
    "### Agent: Editor"
   ]
  },
  {
   "cell_type": "code",
   "execution_count": 6,
   "metadata": {
    "height": 283
   },
   "outputs": [],
   "source": [
    "editor = Agent(\n",
    "    role=\"Editor\",\n",
    "    goal=\"Edit a given blog post to align with \"\n",
    "         \"the writing style of the organization. \",\n",
    "    backstory=\"You are an editor who receives a blog post \"\n",
    "              \"from the Content Writer. \"\n",
    "              \"Your goal is to review the blog post \"\n",
    "              \"to ensure that it follows journalistic best practices,\"\n",
    "              \"provides balanced viewpoints \"\n",
    "              \"when providing opinions or assertions, \"\n",
    "              \"and also avoids major controversial topics \"\n",
    "              \"or opinions when possible.\",\n",
    "    allow_delegation=False,\n",
    "    verbose=True\n",
    ")"
   ]
  },
  {
   "cell_type": "markdown",
   "metadata": {},
   "source": [
    "## Creating Tasks\n",
    "\n",
    "- Define your Tasks, and provide them a `description`, `expected_output` and `agent`."
   ]
  },
  {
   "cell_type": "markdown",
   "metadata": {},
   "source": [
    "### Task: Plan"
   ]
  },
  {
   "cell_type": "code",
   "execution_count": 7,
   "metadata": {
    "height": 283
   },
   "outputs": [],
   "source": [
    "plan = Task(\n",
    "    description=(\n",
    "        \"1. Prioritize the latest trends, key players, \"\n",
    "            \"and noteworthy news on {topic}.\\n\"\n",
    "        \"2. Identify the target audience, considering \"\n",
    "            \"their interests and pain points.\\n\"\n",
    "        \"3. Develop a detailed content outline including \"\n",
    "            \"an introduction, key points, and a call to action.\\n\"\n",
    "        \"4. Include SEO keywords and relevant data or sources.\"\n",
    "    ),\n",
    "    expected_output=\"A comprehensive content plan document \"\n",
    "        \"with an outline, audience analysis, \"\n",
    "        \"SEO keywords, and resources.\",\n",
    "    agent=planner,\n",
    ")"
   ]
  },
  {
   "cell_type": "markdown",
   "metadata": {},
   "source": [
    "### Task: Write"
   ]
  },
  {
   "cell_type": "code",
   "execution_count": 8,
   "metadata": {
    "height": 319
   },
   "outputs": [],
   "source": [
    "write = Task(\n",
    "    description=(\n",
    "        \"1. Use the content plan to craft a compelling \"\n",
    "            \"blog post on {topic}.\\n\"\n",
    "        \"2. Incorporate SEO keywords naturally.\\n\"\n",
    "\t\t\"3. Sections/Subtitles are properly named \"\n",
    "            \"in an engaging manner.\\n\"\n",
    "        \"4. Ensure the post is structured with an \"\n",
    "            \"engaging introduction, insightful body, \"\n",
    "            \"and a summarizing conclusion.\\n\"\n",
    "        \"5. Proofread for grammatical errors and \"\n",
    "            \"alignment with the brand's voice.\\n\"\n",
    "    ),\n",
    "    expected_output=\"A well-written blog post \"\n",
    "        \"in markdown format, ready for publication, \"\n",
    "        \"each section should have 2 or 3 paragraphs.\",\n",
    "    agent=writer,\n",
    ")"
   ]
  },
  {
   "cell_type": "markdown",
   "metadata": {},
   "source": [
    "### Task: Edit"
   ]
  },
  {
   "cell_type": "code",
   "execution_count": 9,
   "metadata": {
    "height": 181
   },
   "outputs": [],
   "source": [
    "edit = Task(\n",
    "    description=(\"Proofread the given blog post for \"\n",
    "                 \"grammatical errors and \"\n",
    "                 \"alignment with the brand's voice.\"),\n",
    "    expected_output=\"A well-written blog post in markdown format, \"\n",
    "                    \"ready for publication, \"\n",
    "                    \"each section should have 2 or 3 paragraphs.\",\n",
    "    agent=editor\n",
    ")"
   ]
  },
  {
   "cell_type": "markdown",
   "metadata": {},
   "source": [
    "## Creating the Crew\n",
    "\n",
    "- Create your crew of Agents\n",
    "- Pass the tasks to be performed by those agents.\n",
    "    - **Note**: *For this simple example*, the tasks will be performed sequentially (i.e they are dependent on each other), so the _order_ of the task in the list _matters_.\n",
    "- `verbose=2` allows you to see all the logs of the execution. "
   ]
  },
  {
   "cell_type": "code",
   "execution_count": 10,
   "metadata": {
    "height": 98
   },
   "outputs": [],
   "source": [
    "crew = Crew(\n",
    "    agents=[planner, writer, editor],\n",
    "    tasks=[plan, write, edit],\n",
    "    verbose=2\n",
    ")"
   ]
  },
  {
   "cell_type": "markdown",
   "metadata": {},
   "source": [
    "## Running the Crew"
   ]
  },
  {
   "cell_type": "markdown",
   "metadata": {},
   "source": [
    "**Note**: LLMs can provide different outputs for they same input, so what you get might be different than what you see in the video."
   ]
  },
  {
   "cell_type": "code",
   "execution_count": 11,
   "metadata": {
    "height": 45
   },
   "outputs": [
    {
     "name": "stdout",
     "output_type": "stream",
     "text": [
      "\u001b[1m\u001b[95m [DEBUG]: == Working Agent: Content Planner\u001b[00m\n",
      "\u001b[1m\u001b[95m [INFO]: == Starting Task: 1. Prioritize the latest trends, key players, and noteworthy news on Artificial Intelligence.\n",
      "2. Identify the target audience, considering their interests and pain points.\n",
      "3. Develop a detailed content outline including an introduction, key points, and a call to action.\n",
      "4. Include SEO keywords and relevant data or sources.\u001b[00m\n",
      "\n",
      "\n",
      "\u001b[1m> Entering new CrewAgentExecutor chain...\u001b[0m\n",
      "\u001b[32;1m\u001b[1;3mI now can give a great answer\n",
      "\n",
      "Final Answer:\n",
      "Content Plan: \n",
      "Title: Unraveling the Latest Trends in Artificial Intelligence\n",
      "\n",
      "Outline:\n",
      "I. Introduction\n",
      "- Definition of Artificial Intelligence\n",
      "- Importance of AI in today's world\n",
      "II. Latest Trends in Artificial Intelligence\n",
      "- Machine learning advancements\n",
      "- Natural language processing developments\n",
      "- AI in healthcare and finance sectors\n",
      "- Ethical considerations in AI\n",
      "III. Key Players in the AI Industry\n",
      "- Google\n",
      "- Amazon\n",
      "- IBM\n",
      "- Microsoft\n",
      "IV. Noteworthy News in Artificial Intelligence\n",
      "- Recent breakthroughs in AI research\n",
      "- AI applications in various industries\n",
      "- Impact of AI on job market\n",
      "V. Target Audience Analysis\n",
      "- Tech enthusiasts\n",
      "- Business professionals\n",
      "- Students interested in AI\n",
      "- Individuals curious about the future of technology\n",
      "VI. SEO Keywords\n",
      "- Artificial Intelligence trends\n",
      "- AI key players\n",
      "- Latest news in AI\n",
      "- Artificial Intelligence developments\n",
      "VII. Call to Action\n",
      "- Encourage readers to explore AI further through online courses or workshops\n",
      "- Invite readers to share their thoughts on AI trends and developments\n",
      "- Provide links to relevant resources for continued learning\n",
      "\n",
      "Resources:\n",
      "1. Forbes - \"Top Trends in Artificial Intelligence for 2021\"\n",
      "2. TechCrunch - \"The Impact of AI on Various Industries\"\n",
      "3. World Economic Forum - \"The Future of Jobs in the Age of Artificial Intelligence\"\n",
      "\n",
      "This comprehensive content plan aims to educate and engage the target audience on the latest trends, key players, and noteworthy news in the field of Artificial Intelligence. By incorporating SEO keywords and relevant resources, the blog article will provide valuable insights for readers looking to stay informed about the rapidly evolving world of AI.\u001b[0m\n",
      "\n",
      "\u001b[1m> Finished chain.\u001b[0m\n",
      "\u001b[1m\u001b[92m [DEBUG]: == [Content Planner] Task output: Content Plan: \n",
      "Title: Unraveling the Latest Trends in Artificial Intelligence\n",
      "\n",
      "Outline:\n",
      "I. Introduction\n",
      "- Definition of Artificial Intelligence\n",
      "- Importance of AI in today's world\n",
      "II. Latest Trends in Artificial Intelligence\n",
      "- Machine learning advancements\n",
      "- Natural language processing developments\n",
      "- AI in healthcare and finance sectors\n",
      "- Ethical considerations in AI\n",
      "III. Key Players in the AI Industry\n",
      "- Google\n",
      "- Amazon\n",
      "- IBM\n",
      "- Microsoft\n",
      "IV. Noteworthy News in Artificial Intelligence\n",
      "- Recent breakthroughs in AI research\n",
      "- AI applications in various industries\n",
      "- Impact of AI on job market\n",
      "V. Target Audience Analysis\n",
      "- Tech enthusiasts\n",
      "- Business professionals\n",
      "- Students interested in AI\n",
      "- Individuals curious about the future of technology\n",
      "VI. SEO Keywords\n",
      "- Artificial Intelligence trends\n",
      "- AI key players\n",
      "- Latest news in AI\n",
      "- Artificial Intelligence developments\n",
      "VII. Call to Action\n",
      "- Encourage readers to explore AI further through online courses or workshops\n",
      "- Invite readers to share their thoughts on AI trends and developments\n",
      "- Provide links to relevant resources for continued learning\n",
      "\n",
      "Resources:\n",
      "1. Forbes - \"Top Trends in Artificial Intelligence for 2021\"\n",
      "2. TechCrunch - \"The Impact of AI on Various Industries\"\n",
      "3. World Economic Forum - \"The Future of Jobs in the Age of Artificial Intelligence\"\n",
      "\n",
      "This comprehensive content plan aims to educate and engage the target audience on the latest trends, key players, and noteworthy news in the field of Artificial Intelligence. By incorporating SEO keywords and relevant resources, the blog article will provide valuable insights for readers looking to stay informed about the rapidly evolving world of AI.\n",
      "\n",
      "\u001b[00m\n",
      "\u001b[1m\u001b[95m [DEBUG]: == Working Agent: Content Writer\u001b[00m\n",
      "\u001b[1m\u001b[95m [INFO]: == Starting Task: 1. Use the content plan to craft a compelling blog post on Artificial Intelligence.\n",
      "2. Incorporate SEO keywords naturally.\n",
      "3. Sections/Subtitles are properly named in an engaging manner.\n",
      "4. Ensure the post is structured with an engaging introduction, insightful body, and a summarizing conclusion.\n",
      "5. Proofread for grammatical errors and alignment with the brand's voice.\n",
      "\u001b[00m\n",
      "\n",
      "\n",
      "\u001b[1m> Entering new CrewAgentExecutor chain...\u001b[0m\n",
      "\u001b[32;1m\u001b[1;3mI now can give a great answer\n",
      "\n",
      "Final Answer:\n",
      "\n",
      "# Unraveling the Latest Trends in Artificial Intelligence\n",
      "\n",
      "## Introduction\n",
      "Artificial Intelligence, often referred to as AI, is the simulation of human intelligence processes by machines, especially computer systems. In today's fast-paced world, AI plays a crucial role in various sectors, revolutionizing the way we live and work. From enhancing business operations to improving healthcare outcomes, AI has become an indispensable tool for innovation and growth.\n",
      "\n",
      "## Latest Trends in Artificial Intelligence\n",
      "The field of AI is constantly evolving, with new trends shaping the landscape of technology. Machine learning advancements have propelled AI to new heights, allowing machines to learn from data and improve their performance over time. Natural language processing developments have also made significant strides, enabling machines to understand and process human language more effectively. In sectors like healthcare and finance, AI is being used to streamline processes, improve efficiency, and enhance decision-making. However, ethical considerations in AI, such as bias in algorithms and data privacy concerns, continue to be hot topics of discussion in the industry.\n",
      "\n",
      "## Key Players in the AI Industry\n",
      "Leading tech companies like Google, Amazon, IBM, and Microsoft are at the forefront of AI innovation. These key players invest heavily in research and development, driving advancements in AI technologies and applications. Their contributions to the field have shaped the way we interact with AI on a daily basis, from virtual assistants to predictive analytics tools.\n",
      "\n",
      "## Noteworthy News in Artificial Intelligence\n",
      "Recent breakthroughs in AI research have paved the way for exciting possibilities in various industries. From autonomous vehicles to personalized medicine, AI applications are transforming the way we live and work. However, the impact of AI on the job market remains a topic of debate, with concerns about job displacement and the need for upskilling in the workforce.\n",
      "\n",
      "## Target Audience Analysis\n",
      "This blog post is tailored for tech enthusiasts, business professionals, students interested in AI, and individuals curious about the future of technology. By exploring the latest trends, key players, and noteworthy news in AI, readers will gain valuable insights into the rapidly evolving world of artificial intelligence.\n",
      "\n",
      "## SEO Keywords\n",
      "Artificial Intelligence trends, AI key players, Latest news in AI, Artificial Intelligence developments\n",
      "\n",
      "## Call to Action\n",
      "I encourage readers to explore AI further through online courses or workshops, share their thoughts on AI trends and developments, and access relevant resources for continued learning. Stay informed and inspired by the latest trends in Artificial Intelligence!\n",
      "\n",
      "In conclusion, Artificial Intelligence continues to shape the future of technology, with new trends, key players, and groundbreaking news driving innovation and growth in the industry. Stay ahead of the curve and embrace the possibilities of AI in today's world.\u001b[0m\n",
      "\n",
      "\u001b[1m> Finished chain.\u001b[0m\n",
      "\u001b[1m\u001b[92m [DEBUG]: == [Content Writer] Task output: # Unraveling the Latest Trends in Artificial Intelligence\n",
      "\n",
      "## Introduction\n",
      "Artificial Intelligence, often referred to as AI, is the simulation of human intelligence processes by machines, especially computer systems. In today's fast-paced world, AI plays a crucial role in various sectors, revolutionizing the way we live and work. From enhancing business operations to improving healthcare outcomes, AI has become an indispensable tool for innovation and growth.\n",
      "\n",
      "## Latest Trends in Artificial Intelligence\n",
      "The field of AI is constantly evolving, with new trends shaping the landscape of technology. Machine learning advancements have propelled AI to new heights, allowing machines to learn from data and improve their performance over time. Natural language processing developments have also made significant strides, enabling machines to understand and process human language more effectively. In sectors like healthcare and finance, AI is being used to streamline processes, improve efficiency, and enhance decision-making. However, ethical considerations in AI, such as bias in algorithms and data privacy concerns, continue to be hot topics of discussion in the industry.\n",
      "\n",
      "## Key Players in the AI Industry\n",
      "Leading tech companies like Google, Amazon, IBM, and Microsoft are at the forefront of AI innovation. These key players invest heavily in research and development, driving advancements in AI technologies and applications. Their contributions to the field have shaped the way we interact with AI on a daily basis, from virtual assistants to predictive analytics tools.\n",
      "\n",
      "## Noteworthy News in Artificial Intelligence\n",
      "Recent breakthroughs in AI research have paved the way for exciting possibilities in various industries. From autonomous vehicles to personalized medicine, AI applications are transforming the way we live and work. However, the impact of AI on the job market remains a topic of debate, with concerns about job displacement and the need for upskilling in the workforce.\n",
      "\n",
      "## Target Audience Analysis\n",
      "This blog post is tailored for tech enthusiasts, business professionals, students interested in AI, and individuals curious about the future of technology. By exploring the latest trends, key players, and noteworthy news in AI, readers will gain valuable insights into the rapidly evolving world of artificial intelligence.\n",
      "\n",
      "## SEO Keywords\n",
      "Artificial Intelligence trends, AI key players, Latest news in AI, Artificial Intelligence developments\n",
      "\n",
      "## Call to Action\n",
      "I encourage readers to explore AI further through online courses or workshops, share their thoughts on AI trends and developments, and access relevant resources for continued learning. Stay informed and inspired by the latest trends in Artificial Intelligence!\n",
      "\n",
      "In conclusion, Artificial Intelligence continues to shape the future of technology, with new trends, key players, and groundbreaking news driving innovation and growth in the industry. Stay ahead of the curve and embrace the possibilities of AI in today's world.\n",
      "\n",
      "\u001b[00m\n",
      "\u001b[1m\u001b[95m [DEBUG]: == Working Agent: Editor\u001b[00m\n",
      "\u001b[1m\u001b[95m [INFO]: == Starting Task: Proofread the given blog post for grammatical errors and alignment with the brand's voice.\u001b[00m\n",
      "\n",
      "\n",
      "\u001b[1m> Entering new CrewAgentExecutor chain...\u001b[0m\n"
     ]
    },
    {
     "name": "stdout",
     "output_type": "stream",
     "text": [
      "\u001b[32;1m\u001b[1;3mI now can give a great answer\n",
      "\n",
      "Final Answer:\n",
      "# Unraveling the Latest Trends in Artificial Intelligence\n",
      "\n",
      "## Introduction\n",
      "Artificial Intelligence, often referred to as AI, is the simulation of human intelligence processes by machines, especially computer systems. In today's fast-paced world, AI plays a crucial role in various sectors, revolutionizing the way we live and work. From enhancing business operations to improving healthcare outcomes, AI has become an indispensable tool for innovation and growth.\n",
      "\n",
      "## Latest Trends in Artificial Intelligence\n",
      "The field of AI is constantly evolving, with new trends shaping the landscape of technology. Machine learning advancements have propelled AI to new heights, allowing machines to learn from data and improve their performance over time. Natural language processing developments have also made significant strides, enabling machines to understand and process human language more effectively. In sectors like healthcare and finance, AI is being used to streamline processes, improve efficiency, and enhance decision-making. However, ethical considerations in AI, such as bias in algorithms and data privacy concerns, continue to be hot topics of discussion in the industry.\n",
      "\n",
      "## Key Players in the AI Industry\n",
      "Leading tech companies like Google, Amazon, IBM, and Microsoft are at the forefront of AI innovation. These key players invest heavily in research and development, driving advancements in AI technologies and applications. Their contributions to the field have shaped the way we interact with AI on a daily basis, from virtual assistants to predictive analytics tools.\n",
      "\n",
      "## Noteworthy News in Artificial Intelligence\n",
      "Recent breakthroughs in AI research have paved the way for exciting possibilities in various industries. From autonomous vehicles to personalized medicine, AI applications are transforming the way we live and work. However, the impact of AI on the job market remains a topic of debate, with concerns about job displacement and the need for upskilling in the workforce.\n",
      "\n",
      "## Target Audience Analysis\n",
      "This blog post is tailored for tech enthusiasts, business professionals, students interested in AI, and individuals curious about the future of technology. By exploring the latest trends, key players, and noteworthy news in AI, readers will gain valuable insights into the rapidly evolving world of artificial intelligence.\n",
      "\n",
      "## SEO Keywords\n",
      "Artificial Intelligence trends, AI key players, Latest news in AI, Artificial Intelligence developments\n",
      "\n",
      "## Call to Action\n",
      "I encourage readers to explore AI further through online courses or workshops, share their thoughts on AI trends and developments, and access relevant resources for continued learning. Stay informed and inspired by the latest trends in Artificial Intelligence!\n",
      "\n",
      "In conclusion, Artificial Intelligence continues to shape the future of technology, with new trends, key players, and groundbreaking news driving innovation and growth in the industry. Stay ahead of the curve and embrace the possibilities of AI in today's world.\u001b[0m\n",
      "\n",
      "\u001b[1m> Finished chain.\u001b[0m\n",
      "\u001b[1m\u001b[92m [DEBUG]: == [Editor] Task output: # Unraveling the Latest Trends in Artificial Intelligence\n",
      "\n",
      "## Introduction\n",
      "Artificial Intelligence, often referred to as AI, is the simulation of human intelligence processes by machines, especially computer systems. In today's fast-paced world, AI plays a crucial role in various sectors, revolutionizing the way we live and work. From enhancing business operations to improving healthcare outcomes, AI has become an indispensable tool for innovation and growth.\n",
      "\n",
      "## Latest Trends in Artificial Intelligence\n",
      "The field of AI is constantly evolving, with new trends shaping the landscape of technology. Machine learning advancements have propelled AI to new heights, allowing machines to learn from data and improve their performance over time. Natural language processing developments have also made significant strides, enabling machines to understand and process human language more effectively. In sectors like healthcare and finance, AI is being used to streamline processes, improve efficiency, and enhance decision-making. However, ethical considerations in AI, such as bias in algorithms and data privacy concerns, continue to be hot topics of discussion in the industry.\n",
      "\n",
      "## Key Players in the AI Industry\n",
      "Leading tech companies like Google, Amazon, IBM, and Microsoft are at the forefront of AI innovation. These key players invest heavily in research and development, driving advancements in AI technologies and applications. Their contributions to the field have shaped the way we interact with AI on a daily basis, from virtual assistants to predictive analytics tools.\n",
      "\n",
      "## Noteworthy News in Artificial Intelligence\n",
      "Recent breakthroughs in AI research have paved the way for exciting possibilities in various industries. From autonomous vehicles to personalized medicine, AI applications are transforming the way we live and work. However, the impact of AI on the job market remains a topic of debate, with concerns about job displacement and the need for upskilling in the workforce.\n",
      "\n",
      "## Target Audience Analysis\n",
      "This blog post is tailored for tech enthusiasts, business professionals, students interested in AI, and individuals curious about the future of technology. By exploring the latest trends, key players, and noteworthy news in AI, readers will gain valuable insights into the rapidly evolving world of artificial intelligence.\n",
      "\n",
      "## SEO Keywords\n",
      "Artificial Intelligence trends, AI key players, Latest news in AI, Artificial Intelligence developments\n",
      "\n",
      "## Call to Action\n",
      "I encourage readers to explore AI further through online courses or workshops, share their thoughts on AI trends and developments, and access relevant resources for continued learning. Stay informed and inspired by the latest trends in Artificial Intelligence!\n",
      "\n",
      "In conclusion, Artificial Intelligence continues to shape the future of technology, with new trends, key players, and groundbreaking news driving innovation and growth in the industry. Stay ahead of the curve and embrace the possibilities of AI in today's world.\n",
      "\n",
      "\u001b[00m\n"
     ]
    }
   ],
   "source": [
    "result = crew.kickoff(inputs={\"topic\": \"Artificial Intelligence\"})"
   ]
  },
  {
   "cell_type": "markdown",
   "metadata": {},
   "source": [
    "- Display the results of your execution as markdown in the notebook."
   ]
  },
  {
   "cell_type": "code",
   "execution_count": 12,
   "metadata": {
    "height": 47
   },
   "outputs": [
    {
     "data": {
      "text/markdown": [
       "# Unraveling the Latest Trends in Artificial Intelligence\n",
       "\n",
       "## Introduction\n",
       "Artificial Intelligence, often referred to as AI, is the simulation of human intelligence processes by machines, especially computer systems. In today's fast-paced world, AI plays a crucial role in various sectors, revolutionizing the way we live and work. From enhancing business operations to improving healthcare outcomes, AI has become an indispensable tool for innovation and growth.\n",
       "\n",
       "## Latest Trends in Artificial Intelligence\n",
       "The field of AI is constantly evolving, with new trends shaping the landscape of technology. Machine learning advancements have propelled AI to new heights, allowing machines to learn from data and improve their performance over time. Natural language processing developments have also made significant strides, enabling machines to understand and process human language more effectively. In sectors like healthcare and finance, AI is being used to streamline processes, improve efficiency, and enhance decision-making. However, ethical considerations in AI, such as bias in algorithms and data privacy concerns, continue to be hot topics of discussion in the industry.\n",
       "\n",
       "## Key Players in the AI Industry\n",
       "Leading tech companies like Google, Amazon, IBM, and Microsoft are at the forefront of AI innovation. These key players invest heavily in research and development, driving advancements in AI technologies and applications. Their contributions to the field have shaped the way we interact with AI on a daily basis, from virtual assistants to predictive analytics tools.\n",
       "\n",
       "## Noteworthy News in Artificial Intelligence\n",
       "Recent breakthroughs in AI research have paved the way for exciting possibilities in various industries. From autonomous vehicles to personalized medicine, AI applications are transforming the way we live and work. However, the impact of AI on the job market remains a topic of debate, with concerns about job displacement and the need for upskilling in the workforce.\n",
       "\n",
       "## Target Audience Analysis\n",
       "This blog post is tailored for tech enthusiasts, business professionals, students interested in AI, and individuals curious about the future of technology. By exploring the latest trends, key players, and noteworthy news in AI, readers will gain valuable insights into the rapidly evolving world of artificial intelligence.\n",
       "\n",
       "## SEO Keywords\n",
       "Artificial Intelligence trends, AI key players, Latest news in AI, Artificial Intelligence developments\n",
       "\n",
       "## Call to Action\n",
       "I encourage readers to explore AI further through online courses or workshops, share their thoughts on AI trends and developments, and access relevant resources for continued learning. Stay informed and inspired by the latest trends in Artificial Intelligence!\n",
       "\n",
       "In conclusion, Artificial Intelligence continues to shape the future of technology, with new trends, key players, and groundbreaking news driving innovation and growth in the industry. Stay ahead of the curve and embrace the possibilities of AI in today's world."
      ],
      "text/plain": [
       "<IPython.core.display.Markdown object>"
      ]
     },
     "execution_count": 12,
     "metadata": {},
     "output_type": "execute_result"
    }
   ],
   "source": [
    "from IPython.display import Markdown\n",
    "Markdown(result)"
   ]
  },
  {
   "cell_type": "markdown",
   "metadata": {},
   "source": [
    "## Try it Yourself\n",
    "\n",
    "- Pass in a topic of your choice and see what the agents come up with!"
   ]
  },
  {
   "cell_type": "code",
   "execution_count": null,
   "metadata": {
    "height": 47
   },
   "outputs": [],
   "source": [
    "topic = \"YOUR TOPIC HERE\"\n",
    "result = crew.kickoff(inputs={\"topic\": topic})"
   ]
  },
  {
   "cell_type": "code",
   "execution_count": null,
   "metadata": {
    "height": 30
   },
   "outputs": [],
   "source": [
    "Markdown(result)"
   ]
  },
  {
   "cell_type": "markdown",
   "metadata": {},
   "source": [
    "<a name='1'></a>\n",
    " ## Other Popular Models as LLM for your Agents"
   ]
  },
  {
   "cell_type": "markdown",
   "metadata": {},
   "source": [
    "#### Hugging Face (HuggingFaceHub endpoint)\n",
    "\n",
    "```Python\n",
    "from langchain_community.llms import HuggingFaceHub\n",
    "\n",
    "llm = HuggingFaceHub(\n",
    "    repo_id=\"HuggingFaceH4/zephyr-7b-beta\",\n",
    "    huggingfacehub_api_token=\"<HF_TOKEN_HERE>\",\n",
    "    task=\"text-generation\",\n",
    ")\n",
    "\n",
    "### you will pass \"llm\" to your agent function\n",
    "```"
   ]
  },
  {
   "cell_type": "markdown",
   "metadata": {},
   "source": [
    "#### Mistral API\n",
    "\n",
    "```Python\n",
    "OPENAI_API_KEY=your-mistral-api-key\n",
    "OPENAI_API_BASE=https://api.mistral.ai/v1\n",
    "OPENAI_MODEL_NAME=\"mistral-small\"\n",
    "```"
   ]
  },
  {
   "cell_type": "markdown",
   "metadata": {},
   "source": [
    "#### Cohere\n",
    "\n",
    "```Python\n",
    "from langchain_community.chat_models import ChatCohere\n",
    "# Initialize language model\n",
    "os.environ[\"COHERE_API_KEY\"] = \"your-cohere-api-key\"\n",
    "llm = ChatCohere()\n",
    "\n",
    "### you will pass \"llm\" to your agent function\n",
    "```"
   ]
  },
  {
   "cell_type": "markdown",
   "metadata": {},
   "source": [
    "### For using Llama locally with Ollama and more, checkout the crewAI documentation on [Connecting to any LLM](https://docs.crewai.com/how-to/LLM-Connections/)."
   ]
  },
  {
   "cell_type": "code",
   "execution_count": null,
   "metadata": {
    "height": 30
   },
   "outputs": [],
   "source": []
  },
  {
   "cell_type": "code",
   "execution_count": null,
   "metadata": {
    "height": 30
   },
   "outputs": [],
   "source": []
  },
  {
   "cell_type": "code",
   "execution_count": null,
   "metadata": {
    "height": 30
   },
   "outputs": [],
   "source": []
  }
 ],
 "metadata": {
  "colab": {
   "gpuType": "T4",
   "provenance": []
  },
  "kernelspec": {
   "display_name": "Python 3 (ipykernel)",
   "language": "python",
   "name": "python3"
  },
  "language_info": {
   "codemirror_mode": {
    "name": "ipython",
    "version": 3
   },
   "file_extension": ".py",
   "mimetype": "text/x-python",
   "name": "python",
   "nbconvert_exporter": "python",
   "pygments_lexer": "ipython3",
   "version": "3.11.9"
  }
 },
 "nbformat": 4,
 "nbformat_minor": 4
}
